{
 "cells": [
  {
   "cell_type": "markdown",
   "id": "5ab785cc",
   "metadata": {},
   "source": [
    "# This is a quick tutorial telling you how to use a trained deep forest model."
   ]
  },
  {
   "cell_type": "markdown",
   "id": "d4827cd5",
   "metadata": {},
   "source": [
    "## Import the required packages"
   ]
  },
  {
   "cell_type": "code",
   "execution_count": 1,
   "id": "d07d93f7",
   "metadata": {},
   "outputs": [],
   "source": [
    "import numpy as np\n",
    "import pandas as pd\n",
    "from sklearn.preprocessing import StandardScaler\n",
    "from sklearn.ensemble import RandomForestClassifier\n",
    "from sklearn.model_selection import GridSearchCV\n",
    "from deepforest import CascadeForestClassifier\n",
    "from sklearn.model_selection import KFold\n",
    "from sklearn.metrics import matthews_corrcoef, confusion_matrix\n",
    "from sklearn.metrics import f1_score,precision_score,recall_score,accuracy_score"
   ]
  },
  {
   "cell_type": "markdown",
   "id": "bb7a75c6",
   "metadata": {},
   "source": [
    "## Load the extracted features and their labels"
   ]
  },
  {
   "cell_type": "code",
   "execution_count": 3,
   "id": "d70e7fa0",
   "metadata": {},
   "outputs": [],
   "source": [
    "df_test = pd.read_csv(\"/home/yaolt/pythoncode/AMPActiPred/first_stage/Test.csv\")\n",
    "sequence_test = df_test[\"Sequence\"].values\n",
    "label_test = df_test[\"label\"].values\n",
    "feature_test = df_test.iloc[:,2:].values"
   ]
  },
  {
   "cell_type": "code",
   "execution_count": 4,
   "id": "a6e464a2",
   "metadata": {},
   "outputs": [
    {
     "data": {
      "text/plain": [
       "array([[  0.        ,   0.        ,   0.        , ...,   0.99466667,\n",
       "        130.        ,   2.38333333],\n",
       "       [ 18.18181818,   0.        ,   0.        , ...,   1.16181818,\n",
       "        120.        ,   1.52      ],\n",
       "       [  8.33333333,   8.33333333,   0.        , ...,   1.15916667,\n",
       "         73.33333333,   1.94583333],\n",
       "       ...,\n",
       "       [ 14.28571429,   0.        ,   3.57142857, ...,   0.92607143,\n",
       "         76.78571429,   1.32071429],\n",
       "       [ 17.39130435,   0.        ,   0.        , ...,   0.99217391,\n",
       "         97.82608696,   1.38130435],\n",
       "       [  8.33333333,   0.        ,   4.16666667, ...,   0.97291667,\n",
       "        122.0833333 ,   0.59      ]])"
      ]
     },
     "execution_count": 4,
     "metadata": {},
     "output_type": "execute_result"
    }
   ],
   "source": [
    "feature_test"
   ]
  },
  {
   "cell_type": "markdown",
   "id": "76a08007",
   "metadata": {},
   "source": [
    "## Load the trained model"
   ]
  },
  {
   "cell_type": "code",
   "execution_count": 5,
   "id": "2f576c8f",
   "metadata": {},
   "outputs": [],
   "source": [
    "model_DF = CascadeForestClassifier()\n",
    "model_DF.load(\"first_stage_model_final\")"
   ]
  },
  {
   "cell_type": "markdown",
   "id": "5abac3a2",
   "metadata": {},
   "source": [
    "## Predict and output probabilities"
   ]
  },
  {
   "cell_type": "code",
   "execution_count": 6,
   "id": "426955a0",
   "metadata": {},
   "outputs": [
    {
     "name": "stdout",
     "output_type": "stream",
     "text": [
      "[2024-03-19 13:35:53.022] Start to evalute the model:\n",
      "[2024-03-19 13:35:53.030] Evaluating cascade layer = 0 \n",
      "[2024-03-19 13:35:53.773] Evaluating cascade layer = 1 \n",
      "[2024-03-19 13:35:54.456] Evaluating cascade layer = 2 \n",
      "[2024-03-19 13:35:55.134] Evaluating cascade layer = 3 \n",
      "[2024-03-19 13:35:55.813] Evaluating cascade layer = 4 \n"
     ]
    }
   ],
   "source": [
    "y_prob_DF = model_DF.predict_proba(feature_test)"
   ]
  },
  {
   "cell_type": "code",
   "execution_count": 7,
   "id": "1a094745",
   "metadata": {},
   "outputs": [
    {
     "data": {
      "text/plain": [
       "array([[0.05464286, 0.94535714],\n",
       "       [0.07642857, 0.92357143],\n",
       "       [0.64428571, 0.35571429],\n",
       "       ...,\n",
       "       [0.97821429, 0.02178571],\n",
       "       [0.94571429, 0.05428571],\n",
       "       [0.60892857, 0.39107143]])"
      ]
     },
     "execution_count": 7,
     "metadata": {},
     "output_type": "execute_result"
    }
   ],
   "source": [
    "y_prob_DF"
   ]
  },
  {
   "cell_type": "code",
   "execution_count": null,
   "id": "3347f472",
   "metadata": {},
   "outputs": [],
   "source": []
  }
 ],
 "metadata": {
  "kernelspec": {
   "display_name": "Python 3 (ipykernel)",
   "language": "python",
   "name": "python3"
  },
  "language_info": {
   "codemirror_mode": {
    "name": "ipython",
    "version": 3
   },
   "file_extension": ".py",
   "mimetype": "text/x-python",
   "name": "python",
   "nbconvert_exporter": "python",
   "pygments_lexer": "ipython3",
   "version": "3.7.12"
  }
 },
 "nbformat": 4,
 "nbformat_minor": 5
}
